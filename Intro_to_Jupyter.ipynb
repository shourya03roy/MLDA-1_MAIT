{
 "cells": [
  {
   "cell_type": "markdown",
   "id": "21697ec8-1fd6-4e50-a7fe-72a52d8574b0",
   "metadata": {},
   "source": [
    "# Jupyter Notebook\n",
    "**Introduction**\n",
    "\n",
    "The Jupyter Notebook is an open-source web application that allows you to create and share documents that contain live code, equations, visualizations, and narrative text. Jupyter has support for over 40 different programming languages and Python is one of them. Python is a requirement (Python 3.3 or greater, or Python 2.7) for installing the Jupyter Notebook itself. Jupyter Notebook can be installed by using either of the two ways described below:\n",
    "\n",
    "\n",
    "<img src=\"image/Jupyter_logo.png\" width=\"100\" height=\"100\" />\n",
    "\n",
    "\n",
    "*Install Jupyter Notebook with Anaconda*\n",
    "\r\n",
    "Install Python and Jupyter using the Anaconda Distribution, which includes Python, the Jupyter Notebook, and other commonly used packages for scientific computing and data science. To install Anaconda, go through [How to install Anaconda on Windows.](https://www.geeksforgeeks.org/how-to-install-anaconda-on-windows/) and follow the instructions provided.\n",
    "\n",
    "\n",
    "*Install Jupyter Notebook using PIP*\n",
    "\n",
    "\n",
    "Install Jupyter using the PIP package manager used to install and manage software packages/libraries written in Python. To install pip, go through How to install PIP on Windows. and follow the instructions provided.\n",
    "ovided."
   ]
  },
  {
   "cell_type": "code",
   "execution_count": 1,
   "id": "ac57df51-5155-455f-ab41-6478096c78c3",
   "metadata": {},
   "outputs": [
    {
     "data": {
      "text/plain": [
       "4"
      ]
     },
     "execution_count": 1,
     "metadata": {},
     "output_type": "execute_result"
    }
   ],
   "source": [
    "2+2"
   ]
  },
  {
   "cell_type": "markdown",
   "id": "8e617e4d-8a36-416d-ac16-ef4f49bd4f79",
   "metadata": {},
   "source": [
    "## Favourite programming languages\n",
    "- Python\n",
    "- C++\n",
    "- Java"
   ]
  },
  {
   "cell_type": "code",
   "execution_count": 2,
   "id": "12e0f72b-73c9-4d37-bd7f-9c15ed470f87",
   "metadata": {},
   "outputs": [
    {
     "name": "stdin",
     "output_type": "stream",
     "text": [
      "Enter number 5\n"
     ]
    },
    {
     "name": "stdout",
     "output_type": "stream",
     "text": [
      "120\n"
     ]
    }
   ],
   "source": [
    "def factorial(n):\n",
    "    fac = 1\n",
    "    for i in range(1,n+1):\n",
    "        fac *= i\n",
    "    return fac\n",
    "n = int(input(\"Enter number\"))\n",
    "print(factorial(n))"
   ]
  },
  {
   "cell_type": "code",
   "execution_count": 3,
   "id": "db957052-d9b2-4add-a57f-c79f3ff751a9",
   "metadata": {},
   "outputs": [
    {
     "name": "stdout",
     "output_type": "stream",
     "text": [
      "median = 7.5\n",
      "mean = 7.25\n"
     ]
    }
   ],
   "source": [
    "import numpy as np\n",
    "a = np.array([10, 7, 8, 4])\n",
    "print(\"median =\",np.median(a))\n",
    "print(\"mean =\",np.mean(a))"
   ]
  },
  {
   "cell_type": "code",
   "execution_count": 5,
   "id": "65e98aab-8c1d-4cc7-9857-cc6799ae7696",
   "metadata": {},
   "outputs": [
    {
     "data": {
      "application/vnd.jupyter.widget-view+json": {
       "model_id": "2f0fce83b28f452eb39cad6e059b5049",
       "version_major": 2,
       "version_minor": 0
      },
      "text/plain": [
       "IntSlider(value=0, max=10)"
      ]
     },
     "execution_count": 5,
     "metadata": {},
     "output_type": "execute_result"
    }
   ],
   "source": [
    "import ipywidgets as widgets\n",
    "slider = widgets.IntSlider(min=0, max=10, step=1)\n",
    "slider"
   ]
  },
  {
   "cell_type": "code",
   "execution_count": 6,
   "id": "1b2011f2-e34e-4cd8-af30-4e94aaa12754",
   "metadata": {},
   "outputs": [
    {
     "data": {
      "image/png": "[encoded data removed]",
      "text/plain": [
       "<Figure size 640x480 with 1 Axes>"
      ]
     },
     "metadata": {},
     "output_type": "display_data"
    }
   ],
   "source": [
    "import matplotlib.pyplot as plt\n",
    "xpoints = np.array([1, 8])\n",
    "ypoints = np.array([0, 9])\n",
    "plt.scatter(3,slider.value,c=\"Red\")\n",
    "plt.plot(xpoints, ypoints)\n",
    "plt.show()"
   ]
  },
  {
   "cell_type": "code",
   "execution_count": 10,
   "id": "c84c9e38-3170-492c-a1de-fa446e564686",
   "metadata": {},
   "outputs": [
    {
     "name": "stdout",
     "output_type": "stream",
     "text": [
      "hi\n",
      "Hello\n"
     ]
    }
   ],
   "source": [
    "import time\n",
    "print(\"hi\")\n",
    "time.sleep(10)\n",
    "print(\"Hello\")"
   ]
  },
  {
   "cell_type": "markdown",
   "id": "e43806e0-04a7-489d-b482-77fc4231d32e",
   "metadata": {},
   "source": [
    "https://nbviewer.org/github/shourya03roy/MLDA-1_MAIT/tree/main/"
   ]
  },
  {
   "cell_type": "code",
   "execution_count": null,
   "id": "8649edaf-e45b-4935-a0d8-43b63a0a09d1",
   "metadata": {},
   "outputs": [],
   "source": []
  }
 ],
 "metadata": {
  "kernelspec": {
   "display_name": "Python 3 (ipykernel)",
   "language": "python",
   "name": "python3"
  },
  "language_info": {
   "codemirror_mode": {
    "name": "ipython",
    "version": 3
   },
   "file_extension": ".py",
   "mimetype": "text/x-python",
   "name": "python",
   "nbconvert_exporter": "python",
   "pygments_lexer": "ipython3",
   "version": "3.11.5"
  }
 },
 "nbformat": 4,
 "nbformat_minor": 5
}
